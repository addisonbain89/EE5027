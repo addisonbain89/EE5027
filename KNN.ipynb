{
 "cells": [
  {
   "cell_type": "code",
   "execution_count": 1,
   "metadata": {},
   "outputs": [],
   "source": [
    "import matplotlib.pyplot as plt\n",
    "import numpy as np\n",
    "import scipy.io\n",
    "import operator\n",
    "from math import sqrt\n",
    "from numpy import log"
   ]
  },
  {
   "cell_type": "code",
   "execution_count": 2,
   "metadata": {},
   "outputs": [],
   "source": [
    "data = scipy.io.loadmat('../data/spamData.mat')"
   ]
  },
  {
   "cell_type": "code",
   "execution_count": 3,
   "metadata": {},
   "outputs": [],
   "source": [
    "def log_transform(x_array):\n",
    "    return log(x_array + 0.1)"
   ]
  },
  {
   "cell_type": "code",
   "execution_count": 4,
   "metadata": {},
   "outputs": [],
   "source": [
    "x_train = data['Xtrain']\n",
    "x_test = data['Xtest']\n",
    "y_test = data['ytest']\n",
    "y_train = data['ytrain']"
   ]
  },
  {
   "cell_type": "code",
   "execution_count": 5,
   "metadata": {},
   "outputs": [],
   "source": [
    "x_train_log = log_transform(x_train)\n",
    "x_test_log = log_transform(x_test)"
   ]
  },
  {
   "cell_type": "code",
   "execution_count": 6,
   "metadata": {},
   "outputs": [],
   "source": [
    "train_set = np.concatenate((x_train_log,y_train),axis=1)\n",
    "test_set = np.concatenate((x_test_log,y_test),axis=1)"
   ]
  },
  {
   "cell_type": "code",
   "execution_count": 7,
   "metadata": {},
   "outputs": [],
   "source": [
    "k_range = np.hstack((np.arange(1, 10, 1), np.arange(10, 105, 5)))"
   ]
  },
  {
   "cell_type": "code",
   "execution_count": 8,
   "metadata": {},
   "outputs": [],
   "source": [
    "def getDistance(testSample, trainSample):\n",
    "# calculate euclidean distance\n",
    "    dist= 0\n",
    "    for j in range(len(testSample)-1):\n",
    "        dist += pow((testSample[j] - trainSample[j]), 2)\n",
    "    return sqrt(dist)"
   ]
  },
  {
   "cell_type": "code",
   "execution_count": 9,
   "metadata": {},
   "outputs": [],
   "source": [
    "def getKNNeighbors(testSample, trainingSet, k):\n",
    "    distances = []\n",
    "\n",
    "    for i in range(len(trainingSet)):\n",
    "        dist = getDistance(testSample, trainingSet[i])\n",
    "        distances.append((trainingSet[i], dist))\n",
    "    distances.sort(key=operator.itemgetter(1))\n",
    "    \n",
    "    knn = []\n",
    "    for x in range(k):\n",
    "        knn.append(distances[x][0])\n",
    "    return knn"
   ]
  },
  {
   "cell_type": "code",
   "execution_count": 10,
   "metadata": {},
   "outputs": [],
   "source": [
    "def spamPredict(neighbors):\n",
    "    k_spam = 0\n",
    "    for i in range(len(neighbors)):\n",
    "        k_spam += neighbors[i][-1]\n",
    "    \n",
    "    spam_prob = k_spam/len(neighbors)\n",
    "    clean_prob = 1 - spam_prob\n",
    "    \n",
    "    if spam_prob > clean_prob:\n",
    "        return 1\n",
    "    else:\n",
    "        return 0"
   ]
  },
  {
   "cell_type": "code",
   "execution_count": 11,
   "metadata": {},
   "outputs": [],
   "source": [
    "def errorRate(testSet, predictions):\n",
    "    error_num = 0\n",
    "    for x in range(len(testSet)):\n",
    "        if testSet[x][-1] != predictions[x]:\n",
    "            error_num += 1\n",
    "    return error_num / len(testSet)"
   ]
  },
  {
   "cell_type": "code",
   "execution_count": 12,
   "metadata": {},
   "outputs": [],
   "source": [
    "def knnError(testSet, trainSet, k):\n",
    "    y_predict =[]\n",
    "    for i in range(len(testSet)):    \n",
    "        neighbors = getKNNeighbors(testSet[i], trainSet, k)\n",
    "        prediction = spamPredict(neighbors)\n",
    "        y_predict.append(prediction)\n",
    "        \n",
    "    error_rate = errorRate(testSet, y_predict)\n",
    "    return error_rate"
   ]
  },
  {
   "cell_type": "code",
   "execution_count": 13,
   "metadata": {},
   "outputs": [
    {
     "data": {
      "text/plain": [
       "0.06380208333333333"
      ]
     },
     "execution_count": 13,
     "metadata": {},
     "output_type": "execute_result"
    }
   ],
   "source": [
    "knnError(test_set, train_set, 1)"
   ]
  },
  {
   "cell_type": "code",
   "execution_count": 14,
   "metadata": {},
   "outputs": [
    {
     "data": {
      "text/plain": [
       "0.0003262642740619902"
      ]
     },
     "execution_count": 14,
     "metadata": {},
     "output_type": "execute_result"
    }
   ],
   "source": [
    "knnError(train_set, train_set, 1)"
   ]
  },
  {
   "cell_type": "code",
   "execution_count": 15,
   "metadata": {
    "scrolled": true
   },
   "outputs": [
    {
     "name": "stdout",
     "output_type": "stream",
     "text": [
      "Error rate for training set when k=1 is: 0.0003262642740619902\n",
      "Error rate for test set when k=1 is:  0.06380208333333333\n",
      "\n",
      "Error rate for training set when k=10 is: 0.053833605220228384\n",
      "Error rate for test set when k=10 is:  0.06510416666666667\n",
      "\n",
      "Error rate for training set when k=100 is: 0.08841761827079934\n",
      "Error rate for test set when k=100 is:  0.087890625\n",
      "\n"
     ]
    }
   ],
   "source": [
    "for k in [1, 10, 100]:\n",
    "    \n",
    "    train_error = knnError(train_set, train_set, k)\n",
    "    print(\"Error rate for training set when k=%s is:\" % k, train_error)\n",
    "    test_error = knnError(test_set, train_set, k)\n",
    "    print(\"Error rate for test set when k=%s is: \" % k, test_error)\n",
    "    print()"
   ]
  },
  {
   "cell_type": "code",
   "execution_count": 16,
   "metadata": {},
   "outputs": [],
   "source": [
    "train_error_rate = []\n",
    "test_error_rate = []\n",
    "\n",
    "for k in k_range:\n",
    "\n",
    "    train_error = knnError(train_set, train_set, k)\n",
    "    train_error_rate.append(train_error)\n",
    "    \n",
    "    test_error = knnError(test_set, train_set, k)\n",
    "    test_error_rate.append(test_error)"
   ]
  },
  {
   "cell_type": "code",
   "execution_count": 17,
   "metadata": {},
   "outputs": [
    {
     "data": {
      "image/png": "[encoded data removed]",
      "text/plain": [
       "<Figure size 432x288 with 1 Axes>"
      ]
     },
     "metadata": {
      "needs_background": "light"
     },
     "output_type": "display_data"
    }
   ],
   "source": [
    "plt.figure(1)\n",
    "plt.plot(k_range, train_error_rate, color='r', label='Training Error Rate')\n",
    "plt.plot(k_range, test_error_rate, color='b', label='Test Error Rate')\n",
    "plt.title('K-Nearest Neighbors - Error Rate')\n",
    "plt.xlabel('K')\n",
    "plt.ylabel('Error Rate')\n",
    "plt.legend(loc=5)\n",
    "plt.show()"
   ]
  }
 ],
 "metadata": {
  "kernelspec": {
   "display_name": "Python 3",
   "language": "python",
   "name": "python3"
  },
  "language_info": {
   "codemirror_mode": {
    "name": "ipython",
    "version": 3
   },
   "file_extension": ".py",
   "mimetype": "text/x-python",
   "name": "python",
   "nbconvert_exporter": "python",
   "pygments_lexer": "ipython3",
   "version": "3.7.4"
  }
 },
 "nbformat": 4,
 "nbformat_minor": 2
}
