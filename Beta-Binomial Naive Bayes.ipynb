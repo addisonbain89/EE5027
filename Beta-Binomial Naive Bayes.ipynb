{
 "cells": [
  {
   "cell_type": "code",
   "execution_count": 2,
   "metadata": {},
   "outputs": [],
   "source": [
    "import numpy as np\n",
    "from numpy import log\n",
    "import matplotlib.pyplot as plt\n",
    "import pandas as pd\n",
    "import scipy.io"
   ]
  },
  {
   "cell_type": "code",
   "execution_count": 3,
   "metadata": {},
   "outputs": [],
   "source": [
    "data = scipy.io.loadmat('../data/spamData.mat')"
   ]
  },
  {
   "cell_type": "code",
   "execution_count": 4,
   "metadata": {},
   "outputs": [],
   "source": [
    "def binarize_feature(feature):\n",
    "    \"\"\"If a feature is greater than 0, set to 1. \n",
    "    If it’s less than or equal to 0, it’s set to 0.\"\"\"\n",
    "    return 1 * (feature > 0)"
   ]
  },
  {
   "cell_type": "code",
   "execution_count": 5,
   "metadata": {},
   "outputs": [],
   "source": [
    "x_train = pd.DataFrame(data['Xtrain'])\n",
    "y_train = pd.DataFrame(data['ytrain'], columns=['y_true'])\n",
    "x_test = pd.DataFrame(data['Xtest'])\n",
    "y_test = pd.DataFrame(data['ytest'], columns=['y_true'])"
   ]
  },
  {
   "cell_type": "code",
   "execution_count": 6,
   "metadata": {},
   "outputs": [],
   "source": [
    "# binarize features in training and test data\n",
    "x_train_b = x_train.apply(binarize_feature)\n",
    "x_test_b = x_test.apply(binarize_feature)"
   ]
  },
  {
   "cell_type": "code",
   "execution_count": 7,
   "metadata": {},
   "outputs": [],
   "source": [
    "# Estimate class label prior (lambda) using ML; class=1(spam); class=0(not spam)\n",
    "lambda_ML = y_train.sum() / y_train.count()"
   ]
  },
  {
   "cell_type": "code",
   "execution_count": 8,
   "metadata": {},
   "outputs": [],
   "source": [
    "# Initialize a new column for class predictions (y_predict)\n",
    "training_set = pd.concat([x_train_b, y_train], axis=1)\n",
    "training_set['y_predict'] = 0\n",
    "test_set = pd.concat([x_test_b, y_test], axis=1)\n",
    "test_set['y_predict'] = 0"
   ]
  },
  {
   "cell_type": "code",
   "execution_count": 9,
   "metadata": {},
   "outputs": [],
   "source": [
    "num_features = 57\n",
    "n_train = len(training_set.index)\n",
    "n_test = len(test_set.index)\n",
    "alpha_values= np.arange(0, 100.5, 0.5)"
   ]
  },
  {
   "cell_type": "code",
   "execution_count": 13,
   "metadata": {},
   "outputs": [],
   "source": [
    "def cal_prob_c1(alpha):\n",
    "\n",
    "    training_set_spam = training_set[training_set['y_true']==1]\n",
    "    p_j1_array = []\n",
    "\n",
    "    for j in range(num_features):\n",
    "        p_j1 = (training_set_spam.iloc[:,j].sum() + alpha) / (len(training_set_spam) + 2 *alpha)\n",
    "        p_j1_array.append(p_j1)\n",
    "        \n",
    "    return p_j1_array"
   ]
  },
  {
   "cell_type": "code",
   "execution_count": 12,
   "metadata": {},
   "outputs": [],
   "source": [
    "def cal_prob_c0(alpha):\n",
    "    \n",
    "    training_set_not_spam = training_set[training_set['y_true']==0]\n",
    "    p_j0_array = []\n",
    "    \n",
    "    for j in range(num_features):\n",
    "        p_j0 = (training_set_not_spam.iloc[:,j].sum() + alpha) / (len(training_set_not_spam) + 2*alpha)\n",
    "        p_j0_array.append(p_j0)\n",
    "        \n",
    "    return p_j0_array"
   ]
  },
  {
   "cell_type": "code",
   "execution_count": 14,
   "metadata": {},
   "outputs": [],
   "source": [
    "# Test Error Rate\n",
    "def fit_test_set(alpha):\n",
    "    test_error_rate = 0\n",
    "    error_count = 0\n",
    "    p_j1_array = cal_prob_c1(alpha)\n",
    "    p_j0_array = cal_prob_c0(alpha)\n",
    "    for n in range(n_test):\n",
    "        x_n = test_set.iloc[n,0:num_features]\n",
    "    \n",
    "        post_predict_c1 = log(lambda_ML)\n",
    "    \n",
    "        for j in range(num_features):\n",
    "            if x_n[j] == 1:\n",
    "                post_predict_c1 += log(p_j1_array[j])\n",
    "            else:\n",
    "                post_predict_c1 += log(1 - p_j1_array[j])    \n",
    "    \n",
    "        post_predict_c0 = log(1 - lambda_ML)\n",
    "\n",
    "        for j in range(num_features):\n",
    "            if x_n[j] == 1:\n",
    "                post_predict_c0 += log(p_j0_array[j])\n",
    "            else:\n",
    "                post_predict_c0 += log(1 - p_j0_array[j])\n",
    "    \n",
    "        post_predict_c1 = float(post_predict_c1)\n",
    "        post_predict_c0 = float(post_predict_c0)\n",
    "    \n",
    "        if (post_predict_c1 > post_predict_c0):\n",
    "            test_set.iloc[n,58] = 1\n",
    "        else:\n",
    "            test_set.iloc[n,58] = 0\n",
    "    \n",
    "        if test_set.iloc[n,58] != test_set.iloc[n,57]:\n",
    "            error_count += 1\n",
    "\n",
    "    test_error_rate = error_count / n_test\n",
    "    return test_error_rate"
   ]
  },
  {
   "cell_type": "code",
   "execution_count": 15,
   "metadata": {},
   "outputs": [],
   "source": [
    "# Train Error Rate\n",
    "def fit_train_set(alpha):\n",
    "    train_error_rate = 0\n",
    "    error_count = 0\n",
    "    p_j1_array = cal_prob_c1(alpha)\n",
    "    p_j0_array = cal_prob_c0(alpha)\n",
    "    for n in range(n_train):\n",
    "        x_n = training_set.iloc[n,0:num_features]\n",
    "    \n",
    "        post_predict_c1 = log(lambda_ML)\n",
    "    \n",
    "        for j in range(num_features):\n",
    "            if x_n[j] == 1:\n",
    "                post_predict_c1 += log(p_j1_array[j])\n",
    "            else:\n",
    "                post_predict_c1 += log(1 - p_j1_array[j])    \n",
    "    \n",
    "        post_predict_c0 = log(1 - lambda_ML)\n",
    "\n",
    "        for j in range(num_features):\n",
    "            if x_n[j] == 1:\n",
    "                post_predict_c0 += log(p_j0_array[j])\n",
    "            else:\n",
    "                post_predict_c0 += log(1 - p_j0_array[j])\n",
    "    \n",
    "        post_predict_c1 = float(post_predict_c1)\n",
    "        post_predict_c0 = float(post_predict_c0)\n",
    "    \n",
    "        if (post_predict_c1 > post_predict_c0):\n",
    "            training_set.iloc[n,58] = 1\n",
    "        else:\n",
    "            training_set.iloc[n,58] = 0\n",
    "\n",
    "        if training_set.iloc[n,58] != training_set.iloc[n,57]:\n",
    "            error_count += 1\n",
    "\n",
    "    train_error_rate = error_count / n_train\n",
    "    return train_error_rate"
   ]
  },
  {
   "cell_type": "code",
   "execution_count": 13,
   "metadata": {},
   "outputs": [
    {
     "name": "stdout",
     "output_type": "stream",
     "text": [
      "Simulation in progress: 0.0%...\n",
      "Simulation in progress: 20.0%...\n",
      "Simulation in progress: 40.0%...\n",
      "Simulation in progress: 60.0%...\n",
      "Simulation in progress: 80.0%...\n",
      "Simulation in progress: 100.0%...\n"
     ]
    }
   ],
   "source": [
    "# collect error rates for different alpha values\n",
    "test_rates = []\n",
    "train_rates = []\n",
    "\n",
    "for alpha in alpha_values:\n",
    "    if alpha % 20 == 0:\n",
    "        print('Simulation in progress: '+ str(alpha)+'%...')\n",
    "    test_rates.append(fit_test_set(alpha))\n",
    "    train_rates.append(fit_train_set(alpha))     "
   ]
  },
  {
   "cell_type": "code",
   "execution_count": 14,
   "metadata": {},
   "outputs": [
    {
     "data": {
      "image/png": "[encoded data removed]",
      "text/plain": [
       "<Figure size 432x288 with 1 Axes>"
      ]
     },
     "metadata": {
      "needs_background": "light"
     },
     "output_type": "display_data"
    }
   ],
   "source": [
    "plt.figure(1)\n",
    "plt.plot(alpha_values, train_rates, color='r', label='Train error rate')\n",
    "plt.plot(alpha_values, test_rates, color='b', label='Test error rate')\n",
    "plt.title('Error Rate - Beta-Binomial Naive Bayes')\n",
    "plt.ylabel('Error Rate')\n",
    "plt.xlabel(r'$\\alpha$')\n",
    "plt.legend(loc='lower right')\n",
    "plt.show()"
   ]
  },
  {
   "cell_type": "code",
   "execution_count": 15,
   "metadata": {},
   "outputs": [
    {
     "name": "stdout",
     "output_type": "stream",
     "text": [
      "0.12369791666666667\n",
      "0.126953125\n",
      "0.146484375\n"
     ]
    }
   ],
   "source": [
    "print(fit_test_set(1))\n",
    "print(fit_test_set(10))\n",
    "print(fit_test_set(100))"
   ]
  },
  {
   "cell_type": "code",
   "execution_count": 16,
   "metadata": {},
   "outputs": [
    {
     "name": "stdout",
     "output_type": "stream",
     "text": [
      "0.11419249592169657\n",
      "0.11745513866231648\n",
      "0.13637846655791191\n"
     ]
    }
   ],
   "source": [
    "print(fit_train_set(1))\n",
    "print(fit_train_set(10))\n",
    "print(fit_train_set(100))"
   ]
  }
 ],
 "metadata": {
  "kernelspec": {
   "display_name": "Python 3",
   "language": "python",
   "name": "python3"
  },
  "language_info": {
   "codemirror_mode": {
    "name": "ipython",
    "version": 3
   },
   "file_extension": ".py",
   "mimetype": "text/x-python",
   "name": "python",
   "nbconvert_exporter": "python",
   "pygments_lexer": "ipython3",
   "version": "3.7.4"
  }
 },
 "nbformat": 4,
 "nbformat_minor": 2
}
