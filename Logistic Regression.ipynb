{
 "cells": [
  {
   "cell_type": "code",
   "execution_count": 1,
   "metadata": {},
   "outputs": [],
   "source": [
    "import numpy as np\n",
    "import matplotlib.pyplot as plt\n",
    "import scipy.io\n",
    "from numpy import exp\n",
    "from numpy import log\n",
    "from numpy.linalg import inv\n",
    "\n",
    "# load spam data\n",
    "spam_data = scipy.io.loadmat('../data/spamData.mat')\n",
    "\n",
    "x_train = spam_data['Xtrain']\n",
    "x_test = spam_data['Xtest']\n",
    "y_test = spam_data['ytest']\n",
    "y_train = spam_data['ytrain']\n",
    "\n",
    "# log-transform features\n",
    "def log_transform(mail_array):\n",
    "    log_mail_array = log(mail_array + 0.1)\n",
    "    return log_mail_array\n",
    "\n",
    "# insert bias term\n",
    "bias_train = np.ones((len(x_train), 1))\n",
    "bias_test = np.ones((len(x_test), 1))\n",
    "\n",
    "x_train_logtrans = log_transform(x_train)\n",
    "x_test_logtrans = log_transform(x_test)\n",
    "x_train_log = np.hstack((bias_train, x_train_logtrans))\n",
    "x_test_log = np.hstack((bias_test, x_test_logtrans))\n",
    "\n",
    "# define sigmoid function\n",
    "def sigmoid(x):\n",
    "    sigm = 1 / (1 + exp(-x))\n",
    "    return sigm\n",
    "\n",
    "#define lambda_range\n",
    "lambda_1 = np.arange(1, 10, 1)\n",
    "lambda_2 = np.arange(10, 105, 5)\n",
    "lambda_range = np.hstack((lambda_1, lambda_2))"
   ]
  },
  {
   "cell_type": "code",
   "execution_count": 2,
   "metadata": {},
   "outputs": [],
   "source": [
    "def train_weights(lambda_value, train_features, train_labels):\n",
    "    step = 0\n",
    "    max_step = 50\n",
    "    \n",
    "    # initialise weights\n",
    "    weight_with_bias = np.zeros((1, len(x_train[0]) + 1))\n",
    "    \n",
    "    # start Newtons Method\n",
    "    while step < max_step:\n",
    "        # get mu\n",
    "        mu = sigmoid(np.dot(x_train_log,weight_with_bias.T))\n",
    "\n",
    "        # get g_reg\n",
    "        g = np.dot(train_features.T, (mu - train_labels))\n",
    "        a = np.zeros((1, 1))\n",
    "        b = np.ones((1, 57))\n",
    "        c = np.hstack((a, b))\n",
    "        g_reg = g + np.dot(np.diag(c[0]) * lambda_value, weight_with_bias.T)\n",
    "        # don't regularize the bias term\n",
    "        \n",
    "        # get S and Hessian\n",
    "        s_list = []\n",
    "        for i in mu:\n",
    "            a = i * (1 - i)\n",
    "            s_list.append(float(a))\n",
    "        s = np.diag(s_list)\n",
    "\n",
    "        h = np.dot(np.dot(train_features.T, s), train_features)\n",
    "        m2 = np.eye(58)\n",
    "        m2[0][0] = 0\n",
    "        h_reg = h + lambda_value * m2\n",
    "        # don't regularize the bias term\n",
    "        \n",
    "        # update weight_with_bias\n",
    "        HH = np.mat(h_reg)\n",
    "        try:\n",
    "            convergence_term = inv(HH) * g_reg\n",
    "        except np.linalg.linalg.LinAlgError:\n",
    "            convergence_term = np.linalg.pinv(HH) * g_reg\n",
    "\n",
    "        weight_with_bias = weight_with_bias - convergence_term.T\n",
    "\n",
    "        step += 1\n",
    "\n",
    "    return weight_with_bias\n",
    "\n",
    "\n",
    "def cal_error_rate(mail_test, mail_label, w):\n",
    "    log_odds = np.dot(mail_test, w.T)\n",
    "    y_pred = 1 * (log_odds > 0)\n",
    "    true_num = np.sum(1 * (y_pred == mail_label))\n",
    "    error_num = len(mail_label) - true_num\n",
    "    error_rate = error_num / len(mail_label)\n",
    "    return error_rate"
   ]
  },
  {
   "cell_type": "code",
   "execution_count": 3,
   "metadata": {},
   "outputs": [
    {
     "name": "stdout",
     "output_type": "stream",
     "text": [
      "Training error rate when λ=1 is: 0.053507340946166396\n",
      "Test error rate when λ=1 is: 0.060546875\n",
      "\n",
      "Training error rate when λ=10 is: 0.053833605220228384\n",
      "Test error rate when λ=10 is: 0.059895833333333336\n",
      "\n",
      "Training error rate when λ=100 is: 0.06394779771615008\n",
      "Test error rate when λ=100 is: 0.06640625\n",
      "\n"
     ]
    }
   ],
   "source": [
    "for lambda_value in [1, 10, 100]:\n",
    "    weights = train_weights(lambda_value, x_train_log, y_train)\n",
    "    train_error_rate = cal_error_rate(x_train_log, y_train, weights)\n",
    "    test_error_rate = cal_error_rate(x_test_log, y_test, weights)\n",
    "    print(\"Training error rate when λ=%s is:\" % lambda_value, train_error_rate)\n",
    "    print(\"Test error rate when λ=%s is:\" % lambda_value, test_error_rate)\n",
    "    print()"
   ]
  },
  {
   "cell_type": "code",
   "execution_count": 4,
   "metadata": {},
   "outputs": [],
   "source": [
    "train_error_rate = []\n",
    "test_error_rate= []\n",
    "\n",
    "for lambda_value in lambda_range:\n",
    "    weights = train_weights(lambda_value, x_train_log, y_train)\n",
    "    train_error = cal_error_rate(x_train_log, y_train, weights)\n",
    "    test_error = cal_error_rate(x_test_log, y_test, weights)\n",
    "    \n",
    "    train_error_rate.append(train_error)\n",
    "    test_error_rate.append(test_error)"
   ]
  },
  {
   "cell_type": "code",
   "execution_count": 5,
   "metadata": {},
   "outputs": [
    {
     "data": {
      "image/png": "[encoded data removed]",
      "text/plain": [
       "<Figure size 432x288 with 1 Axes>"
      ]
     },
     "metadata": {
      "needs_background": "light"
     },
     "output_type": "display_data"
    }
   ],
   "source": [
    "plt.figure(1)\n",
    "plt.plot(lambda_range, train_error_rate, color='r', label='Training Error Rate')\n",
    "plt.plot(lambda_range, test_error_rate, color='b', label='Test Error Rate')\n",
    "plt.title('Logistic Regression - Error Rate')\n",
    "plt.xlabel('λ')\n",
    "plt.ylabel('Error Rate')\n",
    "plt.legend(loc=4)\n",
    "plt.show()"
   ]
  }
 ],
 "metadata": {
  "kernelspec": {
   "display_name": "Python 3",
   "language": "python",
   "name": "python3"
  },
  "language_info": {
   "codemirror_mode": {
    "name": "ipython",
    "version": 3
   },
   "file_extension": ".py",
   "mimetype": "text/x-python",
   "name": "python",
   "nbconvert_exporter": "python",
   "pygments_lexer": "ipython3",
   "version": "3.7.4"
  }
 },
 "nbformat": 4,
 "nbformat_minor": 2
}
