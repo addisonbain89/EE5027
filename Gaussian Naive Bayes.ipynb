{
 "cells": [
  {
   "cell_type": "code",
   "execution_count": 1,
   "metadata": {},
   "outputs": [],
   "source": [
    "from math import exp\n",
    "from math import pi\n",
    "\n",
    "import numpy as np\n",
    "from numpy import log\n",
    "\n",
    "import pandas as pd\n",
    "import scipy.io"
   ]
  },
  {
   "cell_type": "code",
   "execution_count": 2,
   "metadata": {},
   "outputs": [],
   "source": [
    "data = scipy.io.loadmat('../data/spamData.mat')"
   ]
  },
  {
   "cell_type": "code",
   "execution_count": 3,
   "metadata": {},
   "outputs": [],
   "source": [
    "def log_transform(feature):\n",
    "    return log(feature + 0.1)"
   ]
  },
  {
   "cell_type": "code",
   "execution_count": 4,
   "metadata": {},
   "outputs": [],
   "source": [
    "x_train = pd.DataFrame(data['Xtrain'])\n",
    "y_train = pd.DataFrame(data['ytrain'], columns=['y_true'])\n",
    "x_test = pd.DataFrame(data['Xtest'])\n",
    "y_test = pd.DataFrame(data['ytest'], columns=['y_true'])"
   ]
  },
  {
   "cell_type": "code",
   "execution_count": 5,
   "metadata": {},
   "outputs": [],
   "source": [
    "# binarize features in training and test data\n",
    "x_train_l = x_train.apply(log_transform)\n",
    "x_test_l = x_test.apply(log_transform)"
   ]
  },
  {
   "cell_type": "code",
   "execution_count": 6,
   "metadata": {},
   "outputs": [],
   "source": [
    "training_set = pd.concat([x_train_l, y_train], axis=1)\n",
    "training_set['y_predict'] = 0\n",
    "test_set = pd.concat([x_test_l, y_test], axis=1)\n",
    "test_set['y_predict'] = 0"
   ]
  },
  {
   "cell_type": "code",
   "execution_count": 7,
   "metadata": {},
   "outputs": [],
   "source": [
    "lambda_ML = y_train.sum() / y_train.count()\n",
    "num_features = 57\n",
    "n_train = len(training_set.index)\n",
    "n_test = len(test_set.index)"
   ]
  },
  {
   "cell_type": "code",
   "execution_count": 8,
   "metadata": {},
   "outputs": [],
   "source": [
    "def gaussian_pdf(x, mu, sigma):\n",
    "    p = (1 / ((2 * pi * (sigma ** 2)) ** 0.5)) * exp((-0.5 * ((x - mu) ** 2)) / (sigma ** 2))\n",
    "    return p"
   ]
  },
  {
   "cell_type": "code",
   "execution_count": 9,
   "metadata": {},
   "outputs": [],
   "source": [
    "training_set_spam = training_set[training_set['y_true']==1]\n",
    "eta_c1_array = []\n",
    "\n",
    "for j in range(num_features):\n",
    "    mu_j1 = np.mean(training_set_spam.iloc[:,j])\n",
    "    sigma_j1 = np.std(training_set_spam.iloc[:,j])       \n",
    "    eta_c1_array.append(tuple((mu_j1, sigma_j1)))"
   ]
  },
  {
   "cell_type": "code",
   "execution_count": 10,
   "metadata": {},
   "outputs": [],
   "source": [
    "training_set_not_spam = training_set[training_set['y_true']==0]\n",
    "eta_c0_array = []\n",
    "    \n",
    "for j in range(num_features):\n",
    "    mu_j0 = np.mean(training_set_not_spam.iloc[:,j])\n",
    "    sigma_j0 = np.std(training_set_not_spam.iloc[:,j])      \n",
    "    eta_c0_array.append(tuple((mu_j0, sigma_j0)))"
   ]
  },
  {
   "cell_type": "code",
   "execution_count": 11,
   "metadata": {},
   "outputs": [
    {
     "name": "stderr",
     "output_type": "stream",
     "text": [
      "c:\\users\\addis\\onedrive\\desktop\\ind5003\\lib\\site-packages\\ipykernel_launcher.py:12: RuntimeWarning: divide by zero encountered in log\n",
      "  if sys.path[0] == '':\n",
      "c:\\users\\addis\\onedrive\\desktop\\ind5003\\lib\\site-packages\\ipykernel_launcher.py:11: RuntimeWarning: divide by zero encountered in log\n",
      "  # This is added back by InteractiveShellApp.init_path()\n"
     ]
    },
    {
     "name": "stdout",
     "output_type": "stream",
     "text": [
      "Test Error Rate is: 0.16341145833333334\n"
     ]
    }
   ],
   "source": [
    "# Test Error Rate\n",
    "test_error_rate = 0\n",
    "error_count = 0\n",
    "\n",
    "for n in range(n_test):\n",
    "\n",
    "    post_predict_c0 = log(1 - lambda_ML)\n",
    "    post_predict_c1 = log(lambda_ML)\n",
    "    \n",
    "    for j in range(num_features):\n",
    "        post_predict_c0 += log(gaussian_pdf(test_set[j][n],eta_c0_array[j][0] , eta_c0_array[j][1]))\n",
    "        post_predict_c1 += log(gaussian_pdf(test_set[j][n],eta_c1_array[j][0] , eta_c1_array[j][1]))\n",
    "   \n",
    "    post_predict_c0 = float(post_predict_c0)\n",
    "    post_predict_c1 = float(post_predict_c1)\n",
    "    \n",
    "    if (post_predict_c1 > post_predict_c0):\n",
    "        test_set.iloc[n,58] = 1\n",
    "    else:\n",
    "        test_set.iloc[n,58] = 0\n",
    "    \n",
    "    if test_set.iloc[n,58] != test_set.iloc[n,57]:\n",
    "        error_count += 1\n",
    "\n",
    "test_error_rate = error_count / n_test\n",
    "print(\"Test Error Rate is: \"+ str(test_error_rate))"
   ]
  },
  {
   "cell_type": "code",
   "execution_count": 14,
   "metadata": {},
   "outputs": [
    {
     "name": "stderr",
     "output_type": "stream",
     "text": [
      "c:\\users\\addis\\onedrive\\desktop\\ind5003\\lib\\site-packages\\ipykernel_launcher.py:12: RuntimeWarning: divide by zero encountered in log\n",
      "  if sys.path[0] == '':\n",
      "c:\\users\\addis\\onedrive\\desktop\\ind5003\\lib\\site-packages\\ipykernel_launcher.py:11: RuntimeWarning: divide by zero encountered in log\n",
      "  # This is added back by InteractiveShellApp.init_path()\n"
     ]
    },
    {
     "name": "stdout",
     "output_type": "stream",
     "text": [
      "Training Error Rate is: 0.16802610114192496\n"
     ]
    }
   ],
   "source": [
    "# Train Error Rate\n",
    "train_error_rate = 0\n",
    "error_count = 0\n",
    "\n",
    "for n in range(n_train):\n",
    "\n",
    "    post_predict_c0 = log(1 - lambda_ML)\n",
    "    post_predict_c1 = log(lambda_ML)\n",
    "    \n",
    "    for j in range(num_features):\n",
    "        post_predict_c0 += log(gaussian_pdf(training_set[j][n],eta_c0_array[j][0] , eta_c0_array[j][1]))\n",
    "        post_predict_c1 += log(gaussian_pdf(training_set[j][n],eta_c1_array[j][0] , eta_c1_array[j][1]))\n",
    "   \n",
    "    post_predict_c0 = float(post_predict_c0)\n",
    "    post_predict_c1 = float(post_predict_c1)\n",
    "    \n",
    "    if (post_predict_c1 > post_predict_c0):\n",
    "        training_set.iloc[n,58] = 1\n",
    "    else:\n",
    "        training_set.iloc[n,58] = 0\n",
    "    \n",
    "    if training_set.iloc[n,58] != training_set.iloc[n,57]:\n",
    "        error_count += 1\n",
    "\n",
    "train_error_rate = error_count / n_train\n",
    "print(\"Training Error Rate is: \"+ str(train_error_rate))"
   ]
  }
 ],
 "metadata": {
  "kernelspec": {
   "display_name": "Python 3",
   "language": "python",
   "name": "python3"
  },
  "language_info": {
   "codemirror_mode": {
    "name": "ipython",
    "version": 3
   },
   "file_extension": ".py",
   "mimetype": "text/x-python",
   "name": "python",
   "nbconvert_exporter": "python",
   "pygments_lexer": "ipython3",
   "version": "3.7.4"
  }
 },
 "nbformat": 4,
 "nbformat_minor": 2
}
